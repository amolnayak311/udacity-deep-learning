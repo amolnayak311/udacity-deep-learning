{
 "cells": [
  {
   "cell_type": "markdown",
   "metadata": {
    "colab_type": "text",
    "id": "kR-4eNdK6lYS"
   },
   "source": [
    "Deep Learning\n",
    "=============\n",
    "\n",
    "Assignment 3\n",
    "------------\n",
    "\n",
    "Previously in `2_fullyconnected.ipynb`, you trained a logistic regression and a neural network model.\n",
    "\n",
    "The goal of this assignment is to explore regularization techniques."
   ]
  },
  {
   "cell_type": "code",
   "execution_count": 1,
   "metadata": {
    "cellView": "both",
    "colab": {
     "autoexec": {
      "startup": false,
      "wait_interval": 0
     }
    },
    "colab_type": "code",
    "collapsed": true,
    "id": "JLpLa8Jt7Vu4"
   },
   "outputs": [],
   "source": [
    "# These are all the modules we'll be using later. Make sure you can import them\n",
    "# before proceeding further.\n",
    "from __future__ import print_function\n",
    "import numpy as np\n",
    "import tensorflow as tf\n",
    "from six.moves import cPickle as pickle\n",
    "import random\n",
    "import matplotlib.pyplot as plt"
   ]
  },
  {
   "cell_type": "markdown",
   "metadata": {
    "colab_type": "text",
    "id": "1HrCK6e17WzV"
   },
   "source": [
    "First reload the data we generated in `1_notmnist.ipynb`."
   ]
  },
  {
   "cell_type": "code",
   "execution_count": 2,
   "metadata": {
    "cellView": "both",
    "colab": {
     "autoexec": {
      "startup": false,
      "wait_interval": 0
     },
     "output_extras": [
      {
       "item_id": 1
      }
     ]
    },
    "colab_type": "code",
    "executionInfo": {
     "elapsed": 11777,
     "status": "ok",
     "timestamp": 1449849322348,
     "user": {
      "color": "",
      "displayName": "",
      "isAnonymous": false,
      "isMe": true,
      "permissionId": "",
      "photoUrl": "",
      "sessionId": "0",
      "userId": ""
     },
     "user_tz": 480
    },
    "id": "y3-cj1bpmuxc",
    "outputId": "e03576f1-ebbe-4838-c388-f1777bcc9873"
   },
   "outputs": [
    {
     "name": "stdout",
     "output_type": "stream",
     "text": [
      "Training set (200000, 28, 28) (200000,)\n",
      "Validation set (10000, 28, 28) (10000,)\n",
      "Test set (10000, 28, 28) (10000,)\n"
     ]
    }
   ],
   "source": [
    "pickle_file = 'notMNIST.pickle'\n",
    "\n",
    "with open(pickle_file, 'rb') as f:\n",
    "  save = pickle.load(f)\n",
    "  train_dataset = save['train_dataset']\n",
    "  train_labels = save['train_labels']\n",
    "  valid_dataset = save['valid_dataset']\n",
    "  valid_labels = save['valid_labels']\n",
    "  test_dataset = save['test_dataset']\n",
    "  test_labels = save['test_labels']\n",
    "  del save  # hint to help gc free up memory\n",
    "  print('Training set', train_dataset.shape, train_labels.shape)\n",
    "  print('Validation set', valid_dataset.shape, valid_labels.shape)\n",
    "  print('Test set', test_dataset.shape, test_labels.shape)"
   ]
  },
  {
   "cell_type": "markdown",
   "metadata": {
    "colab_type": "text",
    "id": "L7aHrm6nGDMB"
   },
   "source": [
    "Reformat into a shape that's more adapted to the models we're going to train:\n",
    "- data as a flat matrix,\n",
    "- labels as float 1-hot encodings."
   ]
  },
  {
   "cell_type": "code",
   "execution_count": 3,
   "metadata": {
    "cellView": "both",
    "colab": {
     "autoexec": {
      "startup": false,
      "wait_interval": 0
     },
     "output_extras": [
      {
       "item_id": 1
      }
     ]
    },
    "colab_type": "code",
    "executionInfo": {
     "elapsed": 11728,
     "status": "ok",
     "timestamp": 1449849322356,
     "user": {
      "color": "",
      "displayName": "",
      "isAnonymous": false,
      "isMe": true,
      "permissionId": "",
      "photoUrl": "",
      "sessionId": "0",
      "userId": ""
     },
     "user_tz": 480
    },
    "id": "IRSyYiIIGIzS",
    "outputId": "3f8996ee-3574-4f44-c953-5c8a04636582"
   },
   "outputs": [
    {
     "name": "stdout",
     "output_type": "stream",
     "text": [
      "Training set (200000, 784) (200000, 10)\n",
      "Validation set (10000, 784) (10000, 10)\n",
      "Test set (10000, 784) (10000, 10)\n"
     ]
    }
   ],
   "source": [
    "image_size = 28\n",
    "num_labels = 10\n",
    "\n",
    "def reformat(dataset, labels):\n",
    "  dataset = dataset.reshape((-1, image_size * image_size)).astype(np.float32)\n",
    "  # Map 1 to [0.0, 1.0, 0.0 ...], 2 to [0.0, 0.0, 1.0 ...]\n",
    "  labels = (np.arange(num_labels) == labels[:,None]).astype(np.float32)\n",
    "  return dataset, labels\n",
    "train_dataset, train_labels = reformat(train_dataset, train_labels)\n",
    "valid_dataset, valid_labels = reformat(valid_dataset, valid_labels)\n",
    "test_dataset, test_labels = reformat(test_dataset, test_labels)\n",
    "print('Training set', train_dataset.shape, train_labels.shape)\n",
    "print('Validation set', valid_dataset.shape, valid_labels.shape)\n",
    "print('Test set', test_dataset.shape, test_labels.shape)"
   ]
  },
  {
   "cell_type": "code",
   "execution_count": 4,
   "metadata": {
    "cellView": "both",
    "colab": {
     "autoexec": {
      "startup": false,
      "wait_interval": 0
     }
    },
    "colab_type": "code",
    "collapsed": true,
    "id": "RajPLaL_ZW6w"
   },
   "outputs": [],
   "source": [
    "def accuracy(predictions, labels):\n",
    "  return (100.0 * np.sum(np.argmax(predictions, 1) == np.argmax(labels, 1))\n",
    "          / predictions.shape[0])"
   ]
  },
  {
   "cell_type": "markdown",
   "metadata": {
    "colab_type": "text",
    "id": "sgLbUAQ1CW-1"
   },
   "source": [
    "---\n",
    "Problem 1\n",
    "---------\n",
    "\n",
    "Introduce and tune L2 regularization for both logistic and neural network models. Remember that L2 amounts to adding a penalty on the norm of the weights to the loss. In TensorFlow, you can compute the L2 loss for a tensor `t` using `nn.l2_loss(t)`. The right amount of regularization should improve your validation / test accuracy.\n",
    "\n",
    "---"
   ]
  },
  {
   "cell_type": "markdown",
   "metadata": {},
   "source": [
    "We will write a function that will be used for creating a generic graph of deep networks"
   ]
  },
  {
   "cell_type": "code",
   "execution_count": 5,
   "metadata": {},
   "outputs": [],
   "source": [
    "#\n",
    "# Builds the graph using the provided information, \n",
    "# the activation function for the hidden layers is assumed to be RELU\n",
    "# and the last layer is softmax\n",
    "#\n",
    "#\n",
    "def build_graph(image_size, num_labels, batch_size, hidden_layers, beta = 0.0, keep_prob = 1.0, learning_rate = 0.5):\n",
    "    num_hidden_layers = len(hidden_layers)\n",
    "    print('Building network with %d hidden layers, beta for L2 used is %.4f, keep_prob for dropout is %1.2f'%(num_hidden_layers, beta, keep_prob))\n",
    "    weights = []\n",
    "    biases = []\n",
    "    graph = tf.Graph()\n",
    "    with graph.as_default():\n",
    "        in_dim = image_size * image_size;\n",
    "        tf_train_dataset = tf.placeholder(tf.float32, shape = (batch_size, image_size * image_size))\n",
    "        tf_train_labels = tf.placeholder(tf.float32, shape = (batch_size, num_labels))\n",
    "        tf_validation_dataset = tf.constant(valid_dataset)        \n",
    "        tf_test_dataset = tf.constant(test_dataset)        \n",
    "\n",
    "        W = tf.Variable(tf.truncated_normal([in_dim, hidden_layers[0] if num_hidden_layers > 0 else num_labels]), name = 'W0')\n",
    "        B = tf.Variable(tf.zeros(hidden_layers[0] if num_hidden_layers > 0 else num_labels), name = 'B0')\n",
    "        z = tf.matmul(tf_train_dataset, W) + B\n",
    "        weights.append(W)\n",
    "        biases.append(B)        \n",
    "        for i in range(0, num_hidden_layers):\n",
    "            a_prev = tf.nn.relu(z)\n",
    "            a_prev_drop = tf.nn.dropout(a_prev, keep_prob = keep_prob)\n",
    "            next_layer_num_units = hidden_layers[i + 1] if i + 1 < num_hidden_layers else num_labels\n",
    "            W = tf.Variable(tf.truncated_normal([hidden_layers[i], next_layer_num_units]), name = 'W' + str(i + 1))\n",
    "            B = tf.Variable(tf.zeros(next_layer_num_units), name = 'B' + str(i + 1))\n",
    "            z = tf.matmul(a_prev_drop, W) + B\n",
    "            weights.append(W)\n",
    "            biases.append(B)            \n",
    "        \n",
    "            \n",
    "        train_prediction = tf.nn.softmax(z)\n",
    "        loss = tf.reduce_mean(tf.nn.softmax_cross_entropy_with_logits(labels = tf_train_labels, logits = z) + \\\n",
    "                              beta * tf.reduce_sum([tf.nn.l2_loss(x) for x in weights]))\n",
    "        \n",
    "        #optimizer = tf.train.GradientDescentOptimizer(learning_rate).minimize(loss)\n",
    "        optimizer = tf.train.AdamOptimizer().minimize(loss)\n",
    "        \n",
    "        def _run(input_data):\n",
    "            W = weights[0]\n",
    "            B = biases[0]\n",
    "            z = tf.matmul(input_data, W) + B\n",
    "            for i in range(1, len(weights)):\n",
    "                a_prev = tf.nn.relu(z)\n",
    "                W = weights[i]\n",
    "                B = biases[i]\n",
    "                z = tf.matmul(a_prev, W) + B\n",
    "                \n",
    "            return tf.nn.softmax(z)\n",
    "        \n",
    "        test_prediction = _run(tf_test_dataset)\n",
    "        valid_prediction = _run(tf_validation_dataset)\n",
    "        \n",
    "        \n",
    "        return graph, tf_train_dataset, tf_train_labels, weights, biases, loss, optimizer, train_prediction, test_prediction, valid_prediction\n",
    "                            "
   ]
  },
  {
   "cell_type": "markdown",
   "metadata": {},
   "source": [
    "Trying Above function to predict on the accuracy of our prediction using 1 hidden layer of 1024 units and no regularization or dropout, this should give results similar to our training in 2_fullyconnected"
   ]
  },
  {
   "cell_type": "code",
   "execution_count": 6,
   "metadata": {
    "scrolled": false
   },
   "outputs": [
    {
     "name": "stdout",
     "output_type": "stream",
     "text": [
      "Building network with 1 hidden layers, beta for L2 used is 0.0000, keep_prob for dropout is 1.00\n",
      "Initialized\n",
      "Minibatch loss at step 0: 294.955475\n",
      "Minibatch accuracy: 10.2%\n",
      "Validation accuracy: 12.5%\n",
      "Minibatch loss at step 500: 21.200291\n",
      "Minibatch accuracy: 78.1%\n",
      "Validation accuracy: 78.6%\n",
      "Minibatch loss at step 1000: 28.521343\n",
      "Minibatch accuracy: 76.6%\n",
      "Validation accuracy: 80.1%\n",
      "Minibatch loss at step 1500: 11.646664\n",
      "Minibatch accuracy: 88.3%\n",
      "Validation accuracy: 81.6%\n",
      "Minibatch loss at step 2000: 16.437450\n",
      "Minibatch accuracy: 87.5%\n",
      "Validation accuracy: 82.0%\n",
      "Minibatch loss at step 2500: 12.490782\n",
      "Minibatch accuracy: 83.6%\n",
      "Validation accuracy: 82.9%\n",
      "Minibatch loss at step 3000: 17.649899\n",
      "Minibatch accuracy: 79.7%\n",
      "Validation accuracy: 83.3%\n",
      "Test accuracy: 90.0%\n"
     ]
    }
   ],
   "source": [
    "num_steps = 3001\n",
    "random.seed(0)\n",
    "batch_size = 128\n",
    "\n",
    "graph, tf_train_dataset, tf_train_labels, weights, biases, loss, optimizer, \\\n",
    "train_prediction, test_prediction, valid_prediction = build_graph(image_size, num_labels, batch_size, [1024])\n",
    "with tf.Session(graph=graph) as session:\n",
    "  tf.global_variables_initializer().run()\n",
    "  print(\"Initialized\")\n",
    "  for step in range(num_steps):\n",
    "    # Pick an offset within the training data, which has been randomized.\n",
    "    # Note: we could use better randomization across epochs.\n",
    "    offset = (step * batch_size) % (train_labels.shape[0] - batch_size)\n",
    "    # Generate a minibatch.\n",
    "    batch_data = train_dataset[offset:(offset + batch_size), :]\n",
    "    batch_labels = train_labels[offset:(offset + batch_size), :]\n",
    "    # Prepare a dictionary telling the session where to feed the minibatch.\n",
    "    # The key of the dictionary is the placeholder node of the graph to be fed,\n",
    "    # and the value is the numpy array to feed to it.\n",
    "    feed_dict = {tf_train_dataset : batch_data, tf_train_labels : batch_labels}\n",
    "    _, l, predictions = session.run(\n",
    "      [optimizer, loss, train_prediction], feed_dict=feed_dict)\n",
    "    if (step % 500 == 0):\n",
    "      print(\"Minibatch loss at step %d: %f\" % (step, l))\n",
    "      print(\"Minibatch accuracy: %.1f%%\" % accuracy(predictions, batch_labels))\n",
    "      print(\"Validation accuracy: %.1f%%\" % accuracy(\n",
    "        valid_prediction.eval(), valid_labels))\n",
    "  print(\"Test accuracy: %.1f%%\" % accuracy(test_prediction.eval(), test_labels))"
   ]
  },
  {
   "cell_type": "markdown",
   "metadata": {},
   "source": [
    "With the function for building the graph in place, lets plot the validation set error plotted against various values of regularization. We will start with 0.001 and keep doubling the values till we reach 0.256."
   ]
  },
  {
   "cell_type": "code",
   "execution_count": 7,
   "metadata": {},
   "outputs": [
    {
     "name": "stdout",
     "output_type": "stream",
     "text": [
      "Building network with 1 hidden layers, beta for L2 used is 0.0000, keep_prob for dropout is 1.00\n",
      "Building network with 1 hidden layers, beta for L2 used is 0.0010, keep_prob for dropout is 1.00\n",
      "Building network with 1 hidden layers, beta for L2 used is 0.0020, keep_prob for dropout is 1.00\n",
      "Building network with 1 hidden layers, beta for L2 used is 0.0040, keep_prob for dropout is 1.00\n",
      "Building network with 1 hidden layers, beta for L2 used is 0.0080, keep_prob for dropout is 1.00\n",
      "Building network with 1 hidden layers, beta for L2 used is 0.0160, keep_prob for dropout is 1.00\n",
      "Building network with 1 hidden layers, beta for L2 used is 0.0320, keep_prob for dropout is 1.00\n",
      "Building network with 1 hidden layers, beta for L2 used is 0.0640, keep_prob for dropout is 1.00\n",
      "Building network with 1 hidden layers, beta for L2 used is 0.1280, keep_prob for dropout is 1.00\n",
      "Building network with 1 hidden layers, beta for L2 used is 0.2560, keep_prob for dropout is 1.00\n",
      "Best validation accuracy 83.1% found with beta 0.032000, Test accuracy is : 90.0%\n"
     ]
    }
   ],
   "source": [
    "random.seed(0)\n",
    "betas = [0.0, 0.001, 0.002, 0.004, 0.008, 0.016, 0.032, 0.064, 0.128, 0.256]\n",
    "num_steps = 3001\n",
    "max_validation_accuracy = 0.0\n",
    "all_validation_accuracies = []\n",
    "best_beta = 0.0\n",
    "test_accuracy = 0.0\n",
    "final_test_variable = None\n",
    "for beta in betas:\n",
    "    graph, tf_train_dataset, tf_train_labels, weights, biases, loss, optimizer, \\\n",
    "    train_prediction, test_prediction, valid_prediction = build_graph(image_size, num_labels, batch_size, [1024], beta)\n",
    "    with tf.Session(graph=graph) as session:\n",
    "      tf.global_variables_initializer().run()\n",
    "      \n",
    "      for step in range(num_steps):\n",
    "        # Pick an offset within the training data, which has been randomized.\n",
    "        # Note: we could use better randomization across epochs.\n",
    "        offset = (step * batch_size) % (train_labels.shape[0] - batch_size)\n",
    "        # Generate a minibatch.\n",
    "        batch_data = train_dataset[offset:(offset + batch_size), :]\n",
    "        batch_labels = train_labels[offset:(offset + batch_size), :]\n",
    "        # Prepare a dictionary telling the session where to feed the minibatch.\n",
    "        # The key of the dictionary is the placeholder node of the graph to be fed,\n",
    "        # and the value is the numpy array to feed to it.\n",
    "        feed_dict = {tf_train_dataset : batch_data, tf_train_labels : batch_labels}\n",
    "        _, l, predictions = session.run(\n",
    "        [optimizer, loss, train_prediction], feed_dict=feed_dict)\n",
    "    \n",
    "      validation_accuracy = accuracy(valid_prediction.eval(), valid_labels)\n",
    "      all_validation_accuracies.append(validation_accuracy)\n",
    "      if validation_accuracy > max_validation_accuracy:\n",
    "        max_validation_accuracy = validation_accuracy\n",
    "        best_beta = beta\n",
    "        test_accuracy = accuracy(test_prediction.eval(), test_labels)\n",
    "\n",
    "            \n",
    "print(\"Best validation accuracy %.1f%% found with beta %f, Test accuracy is : %.1f%%\" % \\\n",
    "            ( max_validation_accuracy, best_beta, test_accuracy))\n",
    "    \n",
    "  "
   ]
  },
  {
   "cell_type": "code",
   "execution_count": 8,
   "metadata": {},
   "outputs": [
    {
     "data": {
      "image/png": "[encoded data removed]",
      "text/plain": [
       "<matplotlib.figure.Figure at 0x120143d30>"
      ]
     },
     "metadata": {},
     "output_type": "display_data"
    }
   ],
   "source": [
    "plt.semilogx(betas, all_validation_accuracies)\n",
    "plt.show()"
   ]
  },
  {
   "cell_type": "markdown",
   "metadata": {
    "colab_type": "text",
    "id": "na8xX2yHZzNF"
   },
   "source": [
    "---\n",
    "Problem 2\n",
    "---------\n",
    "Let's demonstrate an extreme case of overfitting. Restrict your training data to just a few batches. What happens?\n",
    "\n",
    "---"
   ]
  },
  {
   "cell_type": "code",
   "execution_count": 9,
   "metadata": {},
   "outputs": [
    {
     "name": "stdout",
     "output_type": "stream",
     "text": [
      "Building network with 1 hidden layers, beta for L2 used is 0.0000, keep_prob for dropout is 1.00\n",
      "Initialized\n",
      "Minibatch loss at step 0: 366.194824\n",
      "Minibatch accuracy: 7.8%\n",
      "Validation accuracy: 8.0%\n",
      "Minibatch loss at step 500: 0.000000\n",
      "Minibatch accuracy: 100.0%\n",
      "Validation accuracy: 45.9%\n",
      "Minibatch loss at step 1000: 0.000000\n",
      "Minibatch accuracy: 100.0%\n",
      "Validation accuracy: 45.9%\n",
      "Minibatch loss at step 1500: 0.000000\n",
      "Minibatch accuracy: 100.0%\n",
      "Validation accuracy: 45.9%\n",
      "Minibatch loss at step 2000: 0.000000\n",
      "Minibatch accuracy: 100.0%\n",
      "Validation accuracy: 45.9%\n",
      "Minibatch loss at step 2500: 0.000000\n",
      "Minibatch accuracy: 100.0%\n",
      "Validation accuracy: 45.9%\n",
      "Minibatch loss at step 3000: 0.000000\n",
      "Minibatch accuracy: 100.0%\n",
      "Validation accuracy: 45.9%\n",
      "Test accuracy: 50.6%\n"
     ]
    }
   ],
   "source": [
    "num_steps = 3001\n",
    "random.seed(0)\n",
    "\n",
    "graph, tf_train_dataset, tf_train_labels, weights, biases, loss, optimizer, \\\n",
    "train_prediction, test_prediction, valid_prediction = build_graph(image_size, num_labels, batch_size, [1024])\n",
    "with tf.Session(graph=graph) as session:\n",
    "  tf.global_variables_initializer().run()\n",
    "  print(\"Initialized\")\n",
    "  for step in range(num_steps):\n",
    "    offset = 0\n",
    "    batch_data = train_dataset[offset:(offset + batch_size), :]\n",
    "    batch_labels = train_labels[offset:(offset + batch_size), :]\n",
    "    feed_dict = {tf_train_dataset : batch_data, tf_train_labels : batch_labels}\n",
    "    _, l, predictions = session.run(\n",
    "      [optimizer, loss, train_prediction], feed_dict=feed_dict)\n",
    "    if (step % 500 == 0):\n",
    "      print(\"Minibatch loss at step %d: %f\" % (step, l))\n",
    "      print(\"Minibatch accuracy: %.1f%%\" % accuracy(predictions, batch_labels))\n",
    "      print(\"Validation accuracy: %.1f%%\" % accuracy(\n",
    "        valid_prediction.eval(), valid_labels))\n",
    "  print(\"Test accuracy: %.1f%%\" % accuracy(test_prediction.eval(), test_labels))"
   ]
  },
  {
   "cell_type": "markdown",
   "metadata": {},
   "source": [
    "As we can see above, the minibatch accuracy soon became 100, that is the the network soon learnt the 128 samples of the test set, it however ganeralized badly. This is evident from the validation and test set accuracy"
   ]
  },
  {
   "cell_type": "markdown",
   "metadata": {
    "colab_type": "text",
    "id": "ww3SCBUdlkRc"
   },
   "source": [
    "---\n",
    "Problem 3\n",
    "---------\n",
    "Introduce Dropout on the hidden layer of the neural network. Remember: Dropout should only be introduced during training, not evaluation, otherwise your evaluation results would be stochastic as well. TensorFlow provides `nn.dropout()` for that, but you have to make sure it's only inserted during training.\n",
    "\n",
    "What happens to our extreme overfitting case?\n",
    "\n",
    "---"
   ]
  },
  {
   "cell_type": "markdown",
   "metadata": {},
   "source": [
    "First case, same overfitting case as above, but introduce dropouts with probablity 0.5"
   ]
  },
  {
   "cell_type": "code",
   "execution_count": 10,
   "metadata": {},
   "outputs": [
    {
     "name": "stdout",
     "output_type": "stream",
     "text": [
      "Building network with 1 hidden layers, beta for L2 used is 0.0000, keep_prob for dropout is 0.50\n",
      "Initialized\n",
      "Minibatch loss at step 0: 509.585907\n",
      "Minibatch accuracy: 8.6%\n",
      "Validation accuracy: 11.1%\n",
      "Minibatch loss at step 500: 1.558127\n",
      "Minibatch accuracy: 97.7%\n",
      "Validation accuracy: 66.1%\n",
      "Minibatch loss at step 1000: 0.007435\n",
      "Minibatch accuracy: 99.2%\n",
      "Validation accuracy: 66.6%\n",
      "Minibatch loss at step 1500: 0.000000\n",
      "Minibatch accuracy: 100.0%\n",
      "Validation accuracy: 67.1%\n",
      "Minibatch loss at step 2000: 0.000000\n",
      "Minibatch accuracy: 100.0%\n",
      "Validation accuracy: 67.0%\n",
      "Minibatch loss at step 2500: 0.000000\n",
      "Minibatch accuracy: 100.0%\n",
      "Validation accuracy: 67.7%\n",
      "Minibatch loss at step 3000: 0.000000\n",
      "Minibatch accuracy: 100.0%\n",
      "Validation accuracy: 68.0%\n",
      "Test accuracy: 74.7%\n"
     ]
    }
   ],
   "source": [
    "num_steps = 3001\n",
    "random.seed(0)\n",
    "\n",
    "graph, tf_train_dataset, tf_train_labels, weights, biases, loss, optimizer, \\\n",
    "train_prediction, test_prediction, valid_prediction = build_graph(image_size, num_labels, batch_size, [1024], keep_prob = 0.5)\n",
    "with tf.Session(graph=graph) as session:\n",
    "  tf.global_variables_initializer().run()\n",
    "  print(\"Initialized\")\n",
    "  for step in range(num_steps):\n",
    "    offset = 0\n",
    "    batch_data = train_dataset[offset:(offset + batch_size), :]\n",
    "    batch_labels = train_labels[offset:(offset + batch_size), :]\n",
    "    feed_dict = {tf_train_dataset : batch_data, tf_train_labels : batch_labels}\n",
    "    _, l, predictions = session.run(\n",
    "      [optimizer, loss, train_prediction], feed_dict=feed_dict)\n",
    "    if (step % 500 == 0):\n",
    "      print(\"Minibatch loss at step %d: %f\" % (step, l))\n",
    "      print(\"Minibatch accuracy: %.1f%%\" % accuracy(predictions, batch_labels))\n",
    "      print(\"Validation accuracy: %.1f%%\" % accuracy(\n",
    "        valid_prediction.eval(), valid_labels))\n",
    "  print(\"Test accuracy: %.1f%%\" % accuracy(test_prediction.eval(), test_labels))"
   ]
  },
  {
   "cell_type": "markdown",
   "metadata": {},
   "source": [
    "As we see above, intrducing dropouts made the network more robust to overfitting. Even though we had the training accuracy of 100, we see fair improvement in the validation and test accuracy than with no dropouts, next we will train the entire network with a keep probablity of 0.5"
   ]
  },
  {
   "cell_type": "code",
   "execution_count": 11,
   "metadata": {},
   "outputs": [
    {
     "name": "stdout",
     "output_type": "stream",
     "text": [
      "Building network with 1 hidden layers, beta for L2 used is 0.0000, keep_prob for dropout is 0.60\n",
      "Initialized\n",
      "Minibatch loss at step 0: 482.478058\n",
      "Minibatch accuracy: 7.8%\n",
      "Validation accuracy: 6.0%\n",
      "Minibatch loss at step 500: 40.777481\n",
      "Minibatch accuracy: 80.5%\n",
      "Validation accuracy: 81.0%\n",
      "Minibatch loss at step 1000: 54.298447\n",
      "Minibatch accuracy: 74.2%\n",
      "Validation accuracy: 82.7%\n",
      "Minibatch loss at step 1500: 31.203287\n",
      "Minibatch accuracy: 81.2%\n",
      "Validation accuracy: 83.6%\n",
      "Minibatch loss at step 2000: 24.771816\n",
      "Minibatch accuracy: 80.5%\n",
      "Validation accuracy: 83.9%\n",
      "Minibatch loss at step 2500: 30.826645\n",
      "Minibatch accuracy: 77.3%\n",
      "Validation accuracy: 83.9%\n",
      "Minibatch loss at step 3000: 16.039171\n",
      "Minibatch accuracy: 75.8%\n",
      "Validation accuracy: 84.0%\n",
      "Minibatch loss at step 3500: 29.008530\n",
      "Minibatch accuracy: 84.4%\n",
      "Validation accuracy: 84.1%\n",
      "Minibatch loss at step 4000: 16.040627\n",
      "Minibatch accuracy: 81.2%\n",
      "Validation accuracy: 84.2%\n",
      "Test accuracy: 91.1%\n"
     ]
    }
   ],
   "source": [
    "num_steps = 4001\n",
    "random.seed(0)\n",
    "graph, tf_train_dataset, tf_train_labels, weights, biases, loss, optimizer, \\\n",
    "train_prediction, test_prediction, valid_prediction = build_graph(image_size, num_labels, batch_size, [1024], keep_prob = 0.6)\n",
    "with tf.Session(graph=graph) as session:\n",
    "  tf.global_variables_initializer().run()\n",
    "  print(\"Initialized\")\n",
    "  for step in range(num_steps):\n",
    "    offset = (step * batch_size) % (train_labels.shape[0] - batch_size)\n",
    "    batch_data = train_dataset[offset:(offset + batch_size), :]\n",
    "    batch_labels = train_labels[offset:(offset + batch_size), :]\n",
    "    feed_dict = {tf_train_dataset : batch_data, tf_train_labels : batch_labels}\n",
    "    _, l, predictions = session.run(\n",
    "      [optimizer, loss, train_prediction], feed_dict=feed_dict)\n",
    "    if (step % 500 == 0):\n",
    "      print(\"Minibatch loss at step %d: %f\" % (step, l))\n",
    "      print(\"Minibatch accuracy: %.1f%%\" % accuracy(predictions, batch_labels))\n",
    "      print(\"Validation accuracy: %.1f%%\" % accuracy(\n",
    "        valid_prediction.eval(), valid_labels))\n",
    "  print(\"Test accuracy: %.1f%%\" % accuracy(test_prediction.eval(), test_labels))"
   ]
  },
  {
   "cell_type": "markdown",
   "metadata": {},
   "source": [
    "We increased the number of steps and introduced dropout with a keep_prob of 0.6 and we see a fair bit of improvement, this seems like even a better regularization than using L2 regularization (for the case we have in hand on the data tested)"
   ]
  },
  {
   "cell_type": "markdown",
   "metadata": {
    "colab_type": "text",
    "id": "-b1hTz3VWZjw"
   },
   "source": [
    "---\n",
    "Problem 4\n",
    "---------\n",
    "\n",
    "Try to get the best performance you can using a multi-layer model! The best reported test accuracy using a deep network is [97.1%](http://yaroslavvb.blogspot.com/2011/09/notmnist-dataset.html?showComment=1391023266211#c8758720086795711595).\n",
    "\n",
    "One avenue you can explore is to add multiple layers.\n",
    "\n",
    "Another one is to use learning rate decay:\n",
    "\n",
    "    global_step = tf.Variable(0)  # count the number of steps taken.\n",
    "    learning_rate = tf.train.exponential_decay(0.5, global_step, ...)\n",
    "    optimizer = tf.train.GradientDescentOptimizer(learning_rate).minimize(loss, global_step=global_step)\n",
    " \n",
    " ---\n"
   ]
  },
  {
   "cell_type": "code",
   "execution_count": 17,
   "metadata": {},
   "outputs": [
    {
     "name": "stdout",
     "output_type": "stream",
     "text": [
      "Building network with 2 hidden layers, beta for L2 used is 0.0010, keep_prob for dropout is 1.00\n",
      "Initialized\n",
      "Minibatch loss at step 0: 1290.310791\n",
      "Minibatch accuracy: 9.4%\n",
      "Validation accuracy: 9.8%\n",
      "Minibatch loss at step 3000: 176.297638\n",
      "Minibatch accuracy: 25.0%\n",
      "Validation accuracy: 22.4%\n",
      "Minibatch loss at step 6000: 27.997793\n",
      "Minibatch accuracy: 28.1%\n",
      "Validation accuracy: 29.2%\n",
      "Minibatch loss at step 9000: 3.601903\n",
      "Minibatch accuracy: 68.0%\n",
      "Validation accuracy: 73.7%\n",
      "Minibatch loss at step 12000: 0.898956\n",
      "Minibatch accuracy: 85.2%\n",
      "Validation accuracy: 85.1%\n",
      "Minibatch loss at step 15000: 0.561044\n",
      "Minibatch accuracy: 89.8%\n",
      "Validation accuracy: 87.0%\n",
      "Minibatch loss at step 18000: 0.434034\n",
      "Minibatch accuracy: 90.6%\n",
      "Validation accuracy: 87.2%\n",
      "Minibatch loss at step 21000: 0.440380\n",
      "Minibatch accuracy: 88.3%\n",
      "Validation accuracy: 87.6%\n",
      "Minibatch loss at step 24000: 0.400958\n",
      "Minibatch accuracy: 89.1%\n",
      "Validation accuracy: 87.9%\n",
      "Minibatch loss at step 27000: 0.481082\n",
      "Minibatch accuracy: 89.1%\n",
      "Validation accuracy: 87.9%\n",
      "Minibatch loss at step 30000: 0.368703\n",
      "Minibatch accuracy: 91.4%\n",
      "Validation accuracy: 88.1%\n",
      "Test accuracy: 94.2%\n"
     ]
    }
   ],
   "source": [
    "num_steps = 30001\n",
    "batch_size = 128\n",
    "random.seed(0)\n",
    "graph, tf_train_dataset, tf_train_labels, weights, biases, loss, optimizer, \\\n",
    "train_prediction, test_prediction, valid_prediction = build_graph(image_size, num_labels, batch_size, [1024, 16], \\\n",
    "                                                                  beta = 0.001)\n",
    "#print(weights)\n",
    "with tf.Session(graph=graph) as session:\n",
    "  tf.global_variables_initializer().run()\n",
    "  print(\"Initialized\")\n",
    "  for step in range(num_steps):\n",
    "    offset = (step * batch_size) % (train_labels.shape[0] - batch_size)\n",
    "    batch_data = train_dataset[offset:(offset + batch_size), :]\n",
    "    batch_labels = train_labels[offset:(offset + batch_size), :]\n",
    "    feed_dict = {tf_train_dataset : batch_data, tf_train_labels : batch_labels}\n",
    "    _, l, predictions = session.run(\n",
    "      [optimizer, loss, train_prediction], feed_dict=feed_dict)\n",
    "    if (step % 3000 == 0):\n",
    "      print(\"Minibatch loss at step %d: %f\" % (step, l))\n",
    "      print(\"Minibatch accuracy: %.1f%%\" % accuracy(predictions, batch_labels))\n",
    "      print(\"Validation accuracy: %.1f%%\" % accuracy(\n",
    "        valid_prediction.eval(), valid_labels))\n",
    "  print(\"Test accuracy: %.1f%%\" % accuracy(test_prediction.eval(), test_labels))"
   ]
  },
  {
   "cell_type": "markdown",
   "metadata": {},
   "source": [
    "The accuracy of 94.2% seems reasonable enough to start with. We can however improve the performance further, making the network deeper isnt really an option for me personally due to the hardware constraints. Further more, no data manipulation was done before splitting the data in train, validation and test set"
   ]
  }
 ],
 "metadata": {
  "colab": {
   "default_view": {},
   "name": "3_regularization.ipynb",
   "provenance": [],
   "version": "0.3.2",
   "views": {}
  },
  "kernelspec": {
   "display_name": "Python 3",
   "language": "python",
   "name": "python3"
  },
  "language_info": {
   "codemirror_mode": {
    "name": "ipython",
    "version": 3
   },
   "file_extension": ".py",
   "mimetype": "text/x-python",
   "name": "python",
   "nbconvert_exporter": "python",
   "pygments_lexer": "ipython3",
   "version": "3.6.1"
  }
 },
 "nbformat": 4,
 "nbformat_minor": 1
}
